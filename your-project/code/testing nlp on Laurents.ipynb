{
 "cells": [
  {
   "cell_type": "markdown",
   "metadata": {},
   "source": [
    "# putting together friends dataframe"
   ]
  },
  {
   "cell_type": "code",
   "execution_count": 1,
   "metadata": {},
   "outputs": [],
   "source": [
    "import pandas as pd\n",
    "import numpy as np\n",
    "import matplotlib.pyplot as plt\n",
    "import seaborn as sns\n",
    "import re\n",
    "\n",
    "import nltk\n",
    "from nltk.stem import PorterStemmer\n",
    "from nltk.stem import SnowballStemmer\n",
    "from nltk import wordnet\n",
    "from nltk.corpus import stopwords\n",
    "from nltk.sentiment.vader import SentimentIntensityAnalyzer\n",
    "from sklearn.model_selection import train_test_split, cross_val_score\n",
    "from sklearn.metrics import classification_report\n",
    "from sklearn.metrics import confusion_matrix, accuracy_score, roc_auc_score, roc_curve\n",
    "\n",
    "from sklearn.model_selection import train_test_split, cross_val_score\n",
    "from sklearn.model_selection import cross_validate\n",
    "from sklearn.model_selection import StratifiedKFold\n",
    "from sklearn.linear_model import LogisticRegression\n",
    "from sklearn.model_selection import learning_curve\n",
    "from sklearn.ensemble import ExtraTreesClassifier\n",
    "from sklearn.decomposition import TruncatedSVD\n",
    "from sklearn.feature_extraction.text import TfidfVectorizer, CountVectorizer\n",
    "from sklearn.pipeline import Pipeline\n",
    "from sklearn.naive_bayes import MultinomialNB\n",
    "from sklearn.metrics import classification_report\n",
    "from sklearn.metrics import confusion_matrix, accuracy_score, roc_auc_score, roc_curve"
   ]
  },
  {
   "cell_type": "code",
   "execution_count": 2,
   "metadata": {},
   "outputs": [],
   "source": [
    "Laurents = [\"Haven't posted in a while, so this random picture is now filling the void. Been going within a lot in the past year and sorted out some things for myself. Happy to say, that I am refocused, re-energized and working on great things.\", \n",
    "            \"Impressions from Serfaus. 2020 is off to a good start. Swipe right for the best drinking game\", \n",
    "         \"Dogs of Berlin\", \n",
    "         \"Not my boat, still flexing \", \n",
    "         \"Lads\", \n",
    "         \"A weekend in Madrid is always a good idea! Hanging out the hangover at some historical sites \", \n",
    "         \"Drip too hard, don’t stand too close\", \n",
    "         \"I miss you bro. We pushed each other to be the best every day. There never was a better duo. „The Golden Boys“ Rest Easy\",\n",
    "        \"Getting settled in Berlin\",\n",
    "        \"It’s been three tough but fun years at WHU. Last weekend I finally graduated with a degree from the best business school in Germany, but more importantly with new friends for life and another place I can call home.\",\n",
    "         \n",
    "        \"Graduated\",\n",
    "        \"WHU boys - Class of 2017. Had so much fun with you. Now let's get the moolah\",\n",
    "        \"The pic is blurry but the day was sharp\",\n",
    "        \"Probably the most spectacular view I ever had was driving along the highway no. 1 between LA and SF\",\n",
    "        \"He acting all loyal in this pic, but that lil b* bit me the next minute\",\n",
    "        \"Probably the most spectacular view I ever had was driving along the highway no. 1 between LA and SF.\",\n",
    "        \"Hey @google, Hire me, if you want your bike back! #mountainview #google #siliconvalley\",\n",
    "        \"Throwback to an amazing road trip this fall. What a view! Def. worth the hike #hike #nature #travel #roadtrip #yosemite\",\n",
    "        \"Keep your eyes on the stars and keep your feet on the ground\",\n",
    "        \"You can clearly see I enjoyed being back in SoCal. That place is so beautiful...\",\n",
    "        \n",
    "         \"he Pacific #beers #beach #chilling #california #home #uglyfeet @goldclapmusic good day dude\",\n",
    "        \"Never hold back #weekendmood\",\n",
    "        \"Thank you @kaleandme for this awesome party! #crewlove @reiseminister_coco\",\n",
    "        \"tb to one of my best games ever Still holding the club record for most receptions per game 2013 vs Cottbus W31:15 13 receptions, 193 yards, 3 TDs Thank you @zbreez_ for the trust and the passes !\",\n",
    "        \"Throwback to the best winter ever. My kids group. I gave us the name the lil crackheads, because they got me cracking up all the time! #fuckhashtags\",\n",
    "        \"Won this one big time 60:20, but it cost us some good men... #hospitalreunion\",\n",
    "        \"#Repost @luebeckcougars Much way for improvement though personally. #getbettereveryday Gamestats #cougars #cougarnation #cougarspride #luebeck #luebeckcougars #football #americanfootball #gfl #amgid #afvd #gridiron #awaygame #ritterhude #badgers\",\n",
    "        \"100 days credits @gridiron_design_s\",\n",
    "        \"New Year's Eve in the alps with the crew. #illuminati\",\n",
    "        \"#tb to the good old times when sunday meant gameday and mondays newspaper Sitting in the library studying right now I wish I could go back in time\",\n",
    "        \n",
    "        \"What you believe becomes reality. Create your own world #sundaymood\",\n",
    "        \"Mom, can we have one?\",\n",
    "        \"Trying to get my surf game up. I think I have a much better form on the beach than in the water though haha #germansaintmermaids @lennartmhr\",\n",
    "        \"Table Mountain from Lion's Head @lennartmhr\",\n",
    "         \"I hate off-season... \",\n",
    "         \"This shoutout is overdue. Best musical speaker @realcoleworld!\",\n",
    "         \"#tb to when my bro @enzeocha_11 was making the Swedish defense look like 8th graders.\",\n",
    "         \"Hoffentlich liegt das in der Familie! #crossingfingers #toodamnhot\",\n",
    "         \"Touchdown 70:46 crazy game!\",\n",
    "         \"Some work by @dani_piedrabuena. Trying to look smart in that suit haha \",\n",
    "         \n",
    "         \"Back at it\",\n",
    "         \"Received this at work. Now my colleagues think I'm famous lol Thank you so much Colin!\",\n",
    "         \"#tb to the toughest job I ever had to do good times\",\n",
    "         \"office break \",\n",
    "         \"Beach is better. #barcelona #barca #beach #playa #sun #smile #spain #sleepyface\"\n",
    "         \"Thank you for such a lovely birthday night.\",\n",
    "         \"My new car... I wish. M4 Test Drive. Still having goosebumps #bmw #m4 #madrid #racing\",\n",
    "         \"Don't mess with NFL Runningbacks\",\n",
    "         \"perfect day at el Retiro\",\n",
    "         \"Morning routine. Scooter Ride #madrid #work #watch #scooter #sun #suit\"\n",
    "]"
   ]
  },
  {
   "cell_type": "code",
   "execution_count": 3,
   "metadata": {},
   "outputs": [],
   "source": [
    "laurents_test = {'name': ['Laurents'], 'type': ['ENFP']}"
   ]
  },
  {
   "cell_type": "code",
   "execution_count": 4,
   "metadata": {},
   "outputs": [],
   "source": [
    "laurents_row = pd.DataFrame(laurents_test)"
   ]
  },
  {
   "cell_type": "code",
   "execution_count": 5,
   "metadata": {},
   "outputs": [],
   "source": [
    "laurents_row['text'] = ' '.join(Laurents)"
   ]
  },
  {
   "cell_type": "code",
   "execution_count": 6,
   "metadata": {},
   "outputs": [
    {
     "data": {
      "text/html": [
       "<div>\n",
       "<style scoped>\n",
       "    .dataframe tbody tr th:only-of-type {\n",
       "        vertical-align: middle;\n",
       "    }\n",
       "\n",
       "    .dataframe tbody tr th {\n",
       "        vertical-align: top;\n",
       "    }\n",
       "\n",
       "    .dataframe thead th {\n",
       "        text-align: right;\n",
       "    }\n",
       "</style>\n",
       "<table border=\"1\" class=\"dataframe\">\n",
       "  <thead>\n",
       "    <tr style=\"text-align: right;\">\n",
       "      <th></th>\n",
       "      <th>name</th>\n",
       "      <th>type</th>\n",
       "      <th>text</th>\n",
       "    </tr>\n",
       "  </thead>\n",
       "  <tbody>\n",
       "    <tr>\n",
       "      <th>0</th>\n",
       "      <td>Laurents</td>\n",
       "      <td>ENFP</td>\n",
       "      <td>Haven't posted in a while, so this random pict...</td>\n",
       "    </tr>\n",
       "  </tbody>\n",
       "</table>\n",
       "</div>"
      ],
      "text/plain": [
       "       name  type                                               text\n",
       "0  Laurents  ENFP  Haven't posted in a while, so this random pict..."
      ]
     },
     "execution_count": 6,
     "metadata": {},
     "output_type": "execute_result"
    }
   ],
   "source": [
    "laurents_row"
   ]
  },
  {
   "cell_type": "code",
   "execution_count": 7,
   "metadata": {},
   "outputs": [],
   "source": [
    "def processed(x):\n",
    "    pattern = r'''(?i)\\b((?:https?://|www\\d{0,3}[.]|[a-z0-9.\\-]+[.][a-z]{2,4}/)(?:[^\\s()<>]+|\\(([^\\s()<>]+|(\\([^\\s()<>]+\\)))*\\))+(?:\\(([^\\s()<>]+|(\\([^\\s()<>]+\\)))*\\)|[^\\s`!()\\[\\]{};:'\".,<>?«»“”‘’]))'''\n",
    "    cleaned = re.sub(pattern, ' ', str(x)) \n",
    "    cleaned = re.sub(r\"[^A-Za-z0-9]+\", \" \", cleaned)\n",
    "    cleaned = re.sub(\" \\d+\", \" \", cleaned)\n",
    "    cleaned = cleaned.lower().strip()\n",
    "\n",
    "    pattern2 = '\\w{1,}'\n",
    "    bag = re.findall(pattern2, cleaned)\n",
    "\n",
    "    porter = PorterStemmer()\n",
    "    porter_bag = [porter.stem(word) for word in bag]\n",
    "\n",
    "    lemmatizer = wordnet.WordNetLemmatizer()\n",
    "    bag_of_words = [lemmatizer.lemmatize(word) for word in porter_bag]\n",
    "\n",
    "    stopwords_e = stopwords.words('english')\n",
    "    bag_of_words = [word for word in bag_of_words if word not in stopwords_e]\n",
    "\n",
    "    return bag_of_words"
   ]
  },
  {
   "cell_type": "code",
   "execution_count": 8,
   "metadata": {},
   "outputs": [],
   "source": [
    "text_processed = [processed(i) for i in laurents_row.text]"
   ]
  },
  {
   "cell_type": "code",
   "execution_count": 9,
   "metadata": {},
   "outputs": [],
   "source": [
    "laurents_row['text_processed'] = text_processed"
   ]
  },
  {
   "cell_type": "code",
   "execution_count": 10,
   "metadata": {},
   "outputs": [],
   "source": [
    "laurents_row['text_ready'] = laurents_row.text_processed.apply(' '.join)"
   ]
  },
  {
   "cell_type": "code",
   "execution_count": 11,
   "metadata": {},
   "outputs": [],
   "source": [
    "laurents_row = laurents_row.drop(columns = ['name', 'text', 'text_processed'])"
   ]
  },
  {
   "cell_type": "code",
   "execution_count": 12,
   "metadata": {},
   "outputs": [
    {
     "data": {
      "text/html": [
       "<div>\n",
       "<style scoped>\n",
       "    .dataframe tbody tr th:only-of-type {\n",
       "        vertical-align: middle;\n",
       "    }\n",
       "\n",
       "    .dataframe tbody tr th {\n",
       "        vertical-align: top;\n",
       "    }\n",
       "\n",
       "    .dataframe thead th {\n",
       "        text-align: right;\n",
       "    }\n",
       "</style>\n",
       "<table border=\"1\" class=\"dataframe\">\n",
       "  <thead>\n",
       "    <tr style=\"text-align: right;\">\n",
       "      <th></th>\n",
       "      <th>type</th>\n",
       "      <th>text_ready</th>\n",
       "    </tr>\n",
       "  </thead>\n",
       "  <tbody>\n",
       "    <tr>\n",
       "      <th>0</th>\n",
       "      <td>ENFP</td>\n",
       "      <td>post thi random pictur fill void go within lot...</td>\n",
       "    </tr>\n",
       "  </tbody>\n",
       "</table>\n",
       "</div>"
      ],
      "text/plain": [
       "   type                                         text_ready\n",
       "0  ENFP  post thi random pictur fill void go within lot..."
      ]
     },
     "execution_count": 12,
     "metadata": {},
     "output_type": "execute_result"
    }
   ],
   "source": [
    "laurents_row"
   ]
  },
  {
   "cell_type": "code",
   "execution_count": null,
   "metadata": {},
   "outputs": [],
   "source": []
  },
  {
   "cell_type": "code",
   "execution_count": 13,
   "metadata": {},
   "outputs": [],
   "source": [
    "data = pd.read_csv(r'../data/personalities_cleaned.csv')"
   ]
  },
  {
   "cell_type": "code",
   "execution_count": 14,
   "metadata": {},
   "outputs": [],
   "source": [
    "data = data.drop(columns = ['Unnamed: 0', 'posts', 'text_processed'])"
   ]
  },
  {
   "cell_type": "code",
   "execution_count": 15,
   "metadata": {},
   "outputs": [],
   "source": [
    "data.drop(data.index[3559], inplace=True)"
   ]
  },
  {
   "cell_type": "code",
   "execution_count": 16,
   "metadata": {},
   "outputs": [
    {
     "data": {
      "text/html": [
       "<div>\n",
       "<style scoped>\n",
       "    .dataframe tbody tr th:only-of-type {\n",
       "        vertical-align: middle;\n",
       "    }\n",
       "\n",
       "    .dataframe tbody tr th {\n",
       "        vertical-align: top;\n",
       "    }\n",
       "\n",
       "    .dataframe thead th {\n",
       "        text-align: right;\n",
       "    }\n",
       "</style>\n",
       "<table border=\"1\" class=\"dataframe\">\n",
       "  <thead>\n",
       "    <tr style=\"text-align: right;\">\n",
       "      <th></th>\n",
       "      <th>type</th>\n",
       "      <th>text_ready</th>\n",
       "    </tr>\n",
       "  </thead>\n",
       "  <tbody>\n",
       "    <tr>\n",
       "      <th>0</th>\n",
       "      <td>INFJ</td>\n",
       "      <td>intj moment sportscent top ten play prank ha l...</td>\n",
       "    </tr>\n",
       "    <tr>\n",
       "      <th>1</th>\n",
       "      <td>ENTP</td>\n",
       "      <td>find lack post veri alarm sex bore posit often...</td>\n",
       "    </tr>\n",
       "    <tr>\n",
       "      <th>2</th>\n",
       "      <td>INTP</td>\n",
       "      <td>good one cours say know bless cur doe absolut ...</td>\n",
       "    </tr>\n",
       "    <tr>\n",
       "      <th>3</th>\n",
       "      <td>INTJ</td>\n",
       "      <td>dear intp enjoy convers day esoter gab natur u...</td>\n",
       "    </tr>\n",
       "    <tr>\n",
       "      <th>4</th>\n",
       "      <td>ENTJ</td>\n",
       "      <td>fire anoth silli misconcept approach logic go ...</td>\n",
       "    </tr>\n",
       "  </tbody>\n",
       "</table>\n",
       "</div>"
      ],
      "text/plain": [
       "   type                                         text_ready\n",
       "0  INFJ  intj moment sportscent top ten play prank ha l...\n",
       "1  ENTP  find lack post veri alarm sex bore posit often...\n",
       "2  INTP  good one cours say know bless cur doe absolut ...\n",
       "3  INTJ  dear intp enjoy convers day esoter gab natur u...\n",
       "4  ENTJ  fire anoth silli misconcept approach logic go ..."
      ]
     },
     "execution_count": 16,
     "metadata": {},
     "output_type": "execute_result"
    }
   ],
   "source": [
    "data.head()"
   ]
  },
  {
   "cell_type": "code",
   "execution_count": 17,
   "metadata": {},
   "outputs": [],
   "source": [
    "data = data.append(laurents_row, ignore_index = True)"
   ]
  },
  {
   "cell_type": "code",
   "execution_count": 18,
   "metadata": {},
   "outputs": [],
   "source": [
    "data2 = data.copy()"
   ]
  },
  {
   "cell_type": "code",
   "execution_count": 19,
   "metadata": {},
   "outputs": [],
   "source": [
    "# cleaning and processing\n",
    "\n",
    "data2['I-E'] = data2['type'].astype(str).str[0]\n",
    "data2['N-S'] = data2['type'].astype(str).str[1]\n",
    "data2['T-F'] = data2['type'].astype(str).str[2]\n",
    "data2['J-P'] = data2['type'].astype(str).str[3]"
   ]
  },
  {
   "cell_type": "code",
   "execution_count": 20,
   "metadata": {},
   "outputs": [
    {
     "data": {
      "text/html": [
       "<div>\n",
       "<style scoped>\n",
       "    .dataframe tbody tr th:only-of-type {\n",
       "        vertical-align: middle;\n",
       "    }\n",
       "\n",
       "    .dataframe tbody tr th {\n",
       "        vertical-align: top;\n",
       "    }\n",
       "\n",
       "    .dataframe thead th {\n",
       "        text-align: right;\n",
       "    }\n",
       "</style>\n",
       "<table border=\"1\" class=\"dataframe\">\n",
       "  <thead>\n",
       "    <tr style=\"text-align: right;\">\n",
       "      <th></th>\n",
       "      <th>type</th>\n",
       "      <th>text_ready</th>\n",
       "      <th>I-E</th>\n",
       "      <th>N-S</th>\n",
       "      <th>T-F</th>\n",
       "      <th>J-P</th>\n",
       "    </tr>\n",
       "  </thead>\n",
       "  <tbody>\n",
       "    <tr>\n",
       "      <th>0</th>\n",
       "      <td>INFJ</td>\n",
       "      <td>intj moment sportscent top ten play prank ha l...</td>\n",
       "      <td>I</td>\n",
       "      <td>N</td>\n",
       "      <td>F</td>\n",
       "      <td>J</td>\n",
       "    </tr>\n",
       "    <tr>\n",
       "      <th>1</th>\n",
       "      <td>ENTP</td>\n",
       "      <td>find lack post veri alarm sex bore posit often...</td>\n",
       "      <td>E</td>\n",
       "      <td>N</td>\n",
       "      <td>T</td>\n",
       "      <td>P</td>\n",
       "    </tr>\n",
       "    <tr>\n",
       "      <th>2</th>\n",
       "      <td>INTP</td>\n",
       "      <td>good one cours say know bless cur doe absolut ...</td>\n",
       "      <td>I</td>\n",
       "      <td>N</td>\n",
       "      <td>T</td>\n",
       "      <td>P</td>\n",
       "    </tr>\n",
       "    <tr>\n",
       "      <th>3</th>\n",
       "      <td>INTJ</td>\n",
       "      <td>dear intp enjoy convers day esoter gab natur u...</td>\n",
       "      <td>I</td>\n",
       "      <td>N</td>\n",
       "      <td>T</td>\n",
       "      <td>J</td>\n",
       "    </tr>\n",
       "    <tr>\n",
       "      <th>4</th>\n",
       "      <td>ENTJ</td>\n",
       "      <td>fire anoth silli misconcept approach logic go ...</td>\n",
       "      <td>E</td>\n",
       "      <td>N</td>\n",
       "      <td>T</td>\n",
       "      <td>J</td>\n",
       "    </tr>\n",
       "  </tbody>\n",
       "</table>\n",
       "</div>"
      ],
      "text/plain": [
       "   type                                         text_ready I-E N-S T-F J-P\n",
       "0  INFJ  intj moment sportscent top ten play prank ha l...   I   N   F   J\n",
       "1  ENTP  find lack post veri alarm sex bore posit often...   E   N   T   P\n",
       "2  INTP  good one cours say know bless cur doe absolut ...   I   N   T   P\n",
       "3  INTJ  dear intp enjoy convers day esoter gab natur u...   I   N   T   J\n",
       "4  ENTJ  fire anoth silli misconcept approach logic go ...   E   N   T   J"
      ]
     },
     "execution_count": 20,
     "metadata": {},
     "output_type": "execute_result"
    }
   ],
   "source": [
    "data2.head()"
   ]
  },
  {
   "cell_type": "code",
   "execution_count": 21,
   "metadata": {},
   "outputs": [
    {
     "data": {
      "text/html": [
       "<div>\n",
       "<style scoped>\n",
       "    .dataframe tbody tr th:only-of-type {\n",
       "        vertical-align: middle;\n",
       "    }\n",
       "\n",
       "    .dataframe tbody tr th {\n",
       "        vertical-align: top;\n",
       "    }\n",
       "\n",
       "    .dataframe thead th {\n",
       "        text-align: right;\n",
       "    }\n",
       "</style>\n",
       "<table border=\"1\" class=\"dataframe\">\n",
       "  <thead>\n",
       "    <tr style=\"text-align: right;\">\n",
       "      <th></th>\n",
       "      <th>type</th>\n",
       "      <th>text_ready</th>\n",
       "      <th>I-E</th>\n",
       "      <th>N-S</th>\n",
       "      <th>T-F</th>\n",
       "      <th>J-P</th>\n",
       "    </tr>\n",
       "  </thead>\n",
       "  <tbody>\n",
       "    <tr>\n",
       "      <th>8670</th>\n",
       "      <td>ENFP</td>\n",
       "      <td>thi thread alreadi exist someplac el doe heck ...</td>\n",
       "      <td>E</td>\n",
       "      <td>N</td>\n",
       "      <td>F</td>\n",
       "      <td>P</td>\n",
       "    </tr>\n",
       "    <tr>\n",
       "      <th>8671</th>\n",
       "      <td>INTP</td>\n",
       "      <td>mani question thing would take purpl pill pick...</td>\n",
       "      <td>I</td>\n",
       "      <td>N</td>\n",
       "      <td>T</td>\n",
       "      <td>P</td>\n",
       "    </tr>\n",
       "    <tr>\n",
       "      <th>8672</th>\n",
       "      <td>INFP</td>\n",
       "      <td>veri conflict right come want child honestli m...</td>\n",
       "      <td>I</td>\n",
       "      <td>N</td>\n",
       "      <td>F</td>\n",
       "      <td>P</td>\n",
       "    </tr>\n",
       "    <tr>\n",
       "      <th>8673</th>\n",
       "      <td>INFP</td>\n",
       "      <td>ha long sinc personalitycaf although seem chan...</td>\n",
       "      <td>I</td>\n",
       "      <td>N</td>\n",
       "      <td>F</td>\n",
       "      <td>P</td>\n",
       "    </tr>\n",
       "    <tr>\n",
       "      <th>8674</th>\n",
       "      <td>ENFP</td>\n",
       "      <td>post thi random pictur fill void go within lot...</td>\n",
       "      <td>E</td>\n",
       "      <td>N</td>\n",
       "      <td>F</td>\n",
       "      <td>P</td>\n",
       "    </tr>\n",
       "  </tbody>\n",
       "</table>\n",
       "</div>"
      ],
      "text/plain": [
       "      type                                         text_ready I-E N-S T-F J-P\n",
       "8670  ENFP  thi thread alreadi exist someplac el doe heck ...   E   N   F   P\n",
       "8671  INTP  mani question thing would take purpl pill pick...   I   N   T   P\n",
       "8672  INFP  veri conflict right come want child honestli m...   I   N   F   P\n",
       "8673  INFP  ha long sinc personalitycaf although seem chan...   I   N   F   P\n",
       "8674  ENFP  post thi random pictur fill void go within lot...   E   N   F   P"
      ]
     },
     "execution_count": 21,
     "metadata": {},
     "output_type": "execute_result"
    }
   ],
   "source": [
    "data2.tail()"
   ]
  },
  {
   "cell_type": "code",
   "execution_count": 22,
   "metadata": {},
   "outputs": [],
   "source": [
    "x = data2['text_ready']\n",
    "\n",
    "y_IE = data2['I-E']\n",
    "y_NS = data2['N-S']\n",
    "y_TF = data2['T-F']\n",
    "y_JP = data2['J-P']"
   ]
  },
  {
   "cell_type": "code",
   "execution_count": 23,
   "metadata": {},
   "outputs": [],
   "source": [
    "from sklearn.feature_extraction.text import CountVectorizer\n",
    "\n",
    "vector = CountVectorizer(ngram_range=(2, 2)).fit(x) \n",
    "X = vector.transform(x)"
   ]
  },
  {
   "cell_type": "code",
   "execution_count": 25,
   "metadata": {},
   "outputs": [],
   "source": [
    "y_test = list(y_IE[8674])"
   ]
  },
  {
   "cell_type": "code",
   "execution_count": 26,
   "metadata": {},
   "outputs": [
    {
     "data": {
      "text/plain": [
       "['E']"
      ]
     },
     "execution_count": 26,
     "metadata": {},
     "output_type": "execute_result"
    }
   ],
   "source": [
    "y_test"
   ]
  },
  {
   "cell_type": "code",
   "execution_count": 27,
   "metadata": {},
   "outputs": [],
   "source": [
    "from sklearn.model_selection import train_test_split, cross_val_score"
   ]
  },
  {
   "cell_type": "code",
   "execution_count": 29,
   "metadata": {},
   "outputs": [
    {
     "name": "stdout",
     "output_type": "stream",
     "text": [
      "I-E RESULTS\n",
      "Label I-E train score is : 0.7696298858526461\n",
      "Label I-E test score is : 0.7696298858526461\n",
      "Confusion Matrix for K-Nearest Neighbors:\n",
      "[[0 1]\n",
      " [0 0]]\n",
      "Score: 0.0\n",
      "Classification Report:               precision    recall  f1-score   support\n",
      "\n",
      "           E       0.00      0.00      0.00       1.0\n",
      "           I       0.00      0.00      0.00       0.0\n",
      "\n",
      "    accuracy                           0.00       1.0\n",
      "   macro avg       0.00      0.00      0.00       1.0\n",
      "weighted avg       0.00      0.00      0.00       1.0\n",
      "\n",
      "Prediction is:  ['I']\n",
      "Actual is:  ['E']\n",
      "****************************************************************************************************\n"
     ]
    },
    {
     "name": "stderr",
     "output_type": "stream",
     "text": [
      "/usr/local/Cellar/jupyterlab/1.2.4/libexec/lib/python3.7/site-packages/sklearn/metrics/_classification.py:1272: UndefinedMetricWarning: Precision and F-score are ill-defined and being set to 0.0 in labels with no predicted samples. Use `zero_division` parameter to control this behavior.\n",
      "  _warn_prf(average, modifier, msg_start, len(result))\n",
      "/usr/local/Cellar/jupyterlab/1.2.4/libexec/lib/python3.7/site-packages/sklearn/metrics/_classification.py:1272: UndefinedMetricWarning: Recall and F-score are ill-defined and being set to 0.0 in labels with no true samples. Use `zero_division` parameter to control this behavior.\n",
      "  _warn_prf(average, modifier, msg_start, len(result))\n"
     ]
    },
    {
     "name": "stdout",
     "output_type": "stream",
     "text": [
      "N-S RESULTS\n",
      "Label N-S train score is : 0.8619854721549637\n",
      "Label N-S test score is : 0.8619854721549637\n",
      "Confusion Matrix for Random Forests:\n",
      "[[1]]\n",
      "Score: 100.0\n",
      "Classification Report:               precision    recall  f1-score   support\n",
      "\n",
      "           N       1.00      1.00      1.00         1\n",
      "\n",
      "    accuracy                           1.00         1\n",
      "   macro avg       1.00      1.00      1.00         1\n",
      "weighted avg       1.00      1.00      1.00         1\n",
      "\n",
      "Prediction is:  ['N']\n",
      "Actual is:  ['N']\n",
      "****************************************************************************************************\n",
      "T-F Results\n",
      "Label T-F train score is : 1.0\n",
      "Label T-F test score is : 1.0\n",
      "Confusion Matrix for Multinomial Naive Bayes:\n",
      "[[0 1]\n",
      " [0 0]]\n",
      "Score: 0.0\n",
      "Classification Report:               precision    recall  f1-score   support\n",
      "\n",
      "           F       0.00      0.00      0.00       1.0\n",
      "           T       0.00      0.00      0.00       0.0\n",
      "\n",
      "    accuracy                           0.00       1.0\n",
      "   macro avg       0.00      0.00      0.00       1.0\n",
      "weighted avg       0.00      0.00      0.00       1.0\n",
      "\n",
      "Prediction is:  ['T']\n",
      "Actual is:  ['F']\n",
      "****************************************************************************************************\n"
     ]
    },
    {
     "name": "stderr",
     "output_type": "stream",
     "text": [
      "/usr/local/Cellar/jupyterlab/1.2.4/libexec/lib/python3.7/site-packages/sklearn/metrics/_classification.py:1272: UndefinedMetricWarning: Precision and F-score are ill-defined and being set to 0.0 in labels with no predicted samples. Use `zero_division` parameter to control this behavior.\n",
      "  _warn_prf(average, modifier, msg_start, len(result))\n",
      "/usr/local/Cellar/jupyterlab/1.2.4/libexec/lib/python3.7/site-packages/sklearn/metrics/_classification.py:1272: UndefinedMetricWarning: Recall and F-score are ill-defined and being set to 0.0 in labels with no true samples. Use `zero_division` parameter to control this behavior.\n",
      "  _warn_prf(average, modifier, msg_start, len(result))\n"
     ]
    },
    {
     "name": "stdout",
     "output_type": "stream",
     "text": [
      "J-P Results\n",
      "Label J-P train score is : 1.0\n",
      "Label J-P test score is : 1.0\n",
      "Confusion Matrix for Multinomial Naive Bayes:\n",
      "[[0 0]\n",
      " [1 0]]\n",
      "Score: 0.0\n",
      "Classification Report:               precision    recall  f1-score   support\n",
      "\n",
      "           J       0.00      0.00      0.00       0.0\n",
      "           P       0.00      0.00      0.00       1.0\n",
      "\n",
      "    accuracy                           0.00       1.0\n",
      "   macro avg       0.00      0.00      0.00       1.0\n",
      "weighted avg       0.00      0.00      0.00       1.0\n",
      "\n",
      "Prediction is:  ['J']\n",
      "Actual is:  ['P']\n",
      "****************************************************************************************************\n"
     ]
    },
    {
     "name": "stderr",
     "output_type": "stream",
     "text": [
      "/usr/local/Cellar/jupyterlab/1.2.4/libexec/lib/python3.7/site-packages/sklearn/metrics/_classification.py:1272: UndefinedMetricWarning: Precision and F-score are ill-defined and being set to 0.0 in labels with no predicted samples. Use `zero_division` parameter to control this behavior.\n",
      "  _warn_prf(average, modifier, msg_start, len(result))\n",
      "/usr/local/Cellar/jupyterlab/1.2.4/libexec/lib/python3.7/site-packages/sklearn/metrics/_classification.py:1272: UndefinedMetricWarning: Recall and F-score are ill-defined and being set to 0.0 in labels with no true samples. Use `zero_division` parameter to control this behavior.\n",
      "  _warn_prf(average, modifier, msg_start, len(result))\n"
     ]
    }
   ],
   "source": [
    "from sklearn.neighbors import KNeighborsClassifier\n",
    "knn = KNeighborsClassifier(n_neighbors=10) # see if can tweak accuracy\n",
    "\n",
    "from sklearn.ensemble import RandomForestClassifier\n",
    "rfn = RandomForestClassifier(max_depth=5, random_state=0) # see if can tweak accuracy\n",
    "\n",
    "from sklearn.naive_bayes import MultinomialNB\n",
    "mnb = MultinomialNB()\n",
    "\n",
    "\n",
    "\n",
    "# IE\n",
    "x_train = X[0:8673]\n",
    "x_test = X[8674]\n",
    "y_train = y_IE[0:8673]\n",
    "y_test = list(y_IE[8674])\n",
    "knn.fit(x_train, y_train)\n",
    "ieb_train = knn.score (x_train,y_train)\n",
    "ieb_test = knn.score (x_train,y_train)\n",
    "predknn = knn.predict(x_test)\n",
    "print(\"I-E RESULTS\")\n",
    "print('Label I-E train score is :',ieb_train)\n",
    "print('Label I-E test score is :',ieb_test)\n",
    "print(\"Confusion Matrix for K-Nearest Neighbors:\")\n",
    "print(confusion_matrix(y_test,predknn))\n",
    "print(\"Score:\",round(accuracy_score(y_test,predknn)*100,2))\n",
    "print(\"Classification Report:\",classification_report(y_test,predknn))\n",
    "print('Prediction is: ', predknn)\n",
    "print('Actual is: ', y_test)\n",
    "print(\"*\" * 100)\n",
    "\n",
    "# NS\n",
    "x_train = X[0:8673]\n",
    "x_test = X[8674]\n",
    "y_train = y_NS[0:8673]\n",
    "y_test = list(y_NS[8674])\n",
    "rfn.fit(x_train, y_train)\n",
    "nsb_train = rfn.score (x_train,y_train)\n",
    "nsb_test = rfn.score (x_train,y_train)\n",
    "predrfn = rfn.predict(x_test)\n",
    "print(\"N-S RESULTS\")\n",
    "print('Label N-S train score is :',nsb_train)\n",
    "print('Label N-S test score is :',nsb_test)\n",
    "print(\"Confusion Matrix for Random Forests:\")\n",
    "print(confusion_matrix(y_test,predrfn))\n",
    "print(\"Score:\",round(accuracy_score(y_test,predrfn)*100,2))\n",
    "print(\"Classification Report:\",classification_report(y_test,predrfn))\n",
    "print('Prediction is: ', predrfn)\n",
    "print('Actual is: ', y_test)\n",
    "print(\"*\" * 100)\n",
    "\n",
    "# TF\n",
    "x_train = X[0:8673]\n",
    "x_test = X[8674]\n",
    "y_train = y_TF[0:8673]\n",
    "y_test = list(y_TF[8674])\n",
    "mnb.fit(x_train, y_train)\n",
    "tfb_train = mnb.score (x_train,y_train)\n",
    "tfb_test = mnb.score (x_train,y_train)\n",
    "predmnb = mnb.predict(x_test)\n",
    "print(\"T-F Results\")\n",
    "print('Label T-F train score is :',tfb_train)\n",
    "print('Label T-F test score is :',tfb_test)\n",
    "print(\"Confusion Matrix for Multinomial Naive Bayes:\")\n",
    "print(confusion_matrix(y_test,predmnb))\n",
    "print(\"Score:\",round(accuracy_score(y_test,predmnb)*100,2))\n",
    "print(\"Classification Report:\",classification_report(y_test,predmnb))\n",
    "print('Prediction is: ', predmnb)\n",
    "print('Actual is: ', y_test)\n",
    "print(\"*\" * 100)\n",
    "\n",
    "# JP\n",
    "x_train = X[0:8673]\n",
    "x_test = X[8674]\n",
    "y_train = y_JP[0:8673]\n",
    "y_test = list(y_JP[8674])\n",
    "mnb.fit(x_train, y_train)\n",
    "jpb_train = mnb.score (x_train,y_train)\n",
    "jpb_test = mnb.score (x_train,y_train)\n",
    "predmnb = mnb.predict(x_test)\n",
    "print(\"J-P Results\")\n",
    "print('Label J-P train score is :',jpb_train)\n",
    "print('Label J-P test score is :',jpb_test)\n",
    "print(\"Confusion Matrix for Multinomial Naive Bayes:\")\n",
    "print(confusion_matrix(y_test,predmnb))\n",
    "print(\"Score:\",round(accuracy_score(y_test,predmnb)*100,2))\n",
    "print(\"Classification Report:\",classification_report(y_test,predmnb))\n",
    "print('Prediction is: ', predmnb)\n",
    "print('Actual is: ', y_test)\n",
    "print(\"*\" * 100)"
   ]
  },
  {
   "cell_type": "code",
   "execution_count": null,
   "metadata": {},
   "outputs": [],
   "source": []
  }
 ],
 "metadata": {
  "kernelspec": {
   "display_name": "Python 3",
   "language": "python",
   "name": "python3"
  },
  "language_info": {
   "codemirror_mode": {
    "name": "ipython",
    "version": 3
   },
   "file_extension": ".py",
   "mimetype": "text/x-python",
   "name": "python",
   "nbconvert_exporter": "python",
   "pygments_lexer": "ipython3",
   "version": "3.7.6"
  }
 },
 "nbformat": 4,
 "nbformat_minor": 2
}
