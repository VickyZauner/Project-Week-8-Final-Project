{
 "cells": [
  {
   "cell_type": "markdown",
   "metadata": {},
   "source": [
    "# putting together friends dataframe"
   ]
  },
  {
   "cell_type": "code",
   "execution_count": 97,
   "metadata": {},
   "outputs": [],
   "source": [
    "import pandas as pd\n",
    "import numpy as np\n",
    "import matplotlib.pyplot as plt\n",
    "import seaborn as sns\n",
    "import re\n",
    "\n",
    "import nltk\n",
    "from nltk.stem import PorterStemmer\n",
    "from nltk.stem import SnowballStemmer\n",
    "from nltk import wordnet\n",
    "from nltk.corpus import stopwords\n",
    "from nltk.sentiment.vader import SentimentIntensityAnalyzer\n",
    "from sklearn.model_selection import train_test_split, cross_val_score\n",
    "from sklearn.metrics import classification_report\n",
    "from sklearn.metrics import confusion_matrix, accuracy_score, roc_auc_score, roc_curve\n",
    "\n",
    "from sklearn.model_selection import train_test_split, cross_val_score\n",
    "from sklearn.model_selection import cross_validate\n",
    "from sklearn.model_selection import StratifiedKFold\n",
    "from sklearn.linear_model import LogisticRegression\n",
    "from sklearn.model_selection import learning_curve\n",
    "from sklearn.ensemble import ExtraTreesClassifier\n",
    "from sklearn.decomposition import TruncatedSVD\n",
    "from sklearn.feature_extraction.text import TfidfVectorizer, CountVectorizer\n",
    "from sklearn.pipeline import Pipeline\n",
    "from sklearn.naive_bayes import MultinomialNB\n",
    "from sklearn.metrics import classification_report\n",
    "from sklearn.metrics import confusion_matrix, accuracy_score, roc_auc_score, roc_curve"
   ]
  },
  {
   "cell_type": "code",
   "execution_count": 98,
   "metadata": {},
   "outputs": [],
   "source": [
    "Darya = [\"Quarantine expectations. Swipe for reality\", \n",
    "         \"22 in 2020 - swipe to see a photo from yesterday. Age affects me.\", \n",
    "         \"hello? Santa? All I wish for Christmas is my mind back... \", \n",
    "         \"girl with a hat - a series. \", \n",
    "         \"casual day at uni. swipe for more idiots\", \n",
    "         \"thanking Steve for a nice iPhone front camera.\", \n",
    "         \"Missing this\", \n",
    "         \"*edit: still can‘t believe a sunscreen for 7.95 prevented me from having a huge sunburn\",\n",
    "        \"where I‘d rather be part 2\",\n",
    "        \"when people ask me if I‘ve got free time - I do. Except I don’t.\",\n",
    "         \n",
    "        \"just a small town girl, living in a capitalist world...\",\n",
    "        \"clueless\",\n",
    "        \"Might be serious, might be hungry. \",\n",
    "        \"you want blue? you want yellow?\",\n",
    "        \"While the wall fell nearly 30 years ago, I constantly fall on my face...\",\n",
    "        \"Im pretty ok with exams being over... \",\n",
    "        \"unpopular opinion: university can be fun. exhibit a\",\n",
    "        \"christmas is around the corner but all I‘m wishing for is an extention of deadlines...\",\n",
    "        \"on some occasions I even get out of the valley and LA to go sightseeing \",\n",
    "        \"diamonds are a girls best friend. Especially when you trade ‘em for plane tickets and uber rides\",\n",
    "        \n",
    "         \"not a threat, it’s a warning. (talking about the beginning of semester tomorrow)\",\n",
    "        \"come fly with me, let’s fly let’s fly away...\",\n",
    "        \"saltier than the Pacific\",\n",
    "        \"me, when I’m a) hangry or b) am studying @ nyfalosangeles @ williamroyal98\",\n",
    "        \"this whole you-gotta-study-while-the-sun-is-shining gets on my nerve. here’s an example of inner rage\",\n",
    "        \"you know you might have been spontaneous when while booking your flights they asked you if ou would want to check in for the flight back aswell.\",\n",
    "        \"Vitamins\",\n",
    "        \"finished the first semerster at HSG and I still can’t afford a porsche 911.\",\n",
    "        \"Me: you should be studying. Also me: enjoy the holidays\",\n",
    "        \"just kidding - I’m still a short ass little human\",\n",
    "        \n",
    "        \"week 2 at uni and my icloud and google drive are asking me to pay for more storage.\",\n",
    "        \"uni starts tomorrow and I already see myself either a) being lost cause I can't find the classroom or b) looking like Annabelle cause sleep is for the weak\",\n",
    "        \"oh boy\",\n",
    "        \"this should be my last week of summer but I think the weather decided to give me an early taste of fall already.\",\n",
    "         \"water falls, darya falls and just casually sit on floors cause standing is overrated \",\n",
    "         \"I promise I counted all the lights, but then I saw a squirrel and lost count \",\n",
    "         \"is it a set? Is it a real house? guess.\",\n",
    "         \"quiet on set\",\n",
    "         \"Baywatch, are you hiring?\",\n",
    "         \"What if perfume is actually bugspray but they want us to buy the nasty smelly stuff just to have a good laugh?\",\n",
    "         \n",
    "         \"I'm starting to wonder if spotlight can give you a tan cause the sun isn't coming to just yet. All jokes asid tho, I am beyond grateful to share the stage with so many talented people. Do what you love and you'll feel limitless \",\n",
    "         \"that second when the person you've been straing at looks at you and you quickly turn away, trying to look as casual as possible\",\n",
    "         \"at that moment I probably thought out a plan to convince my mom to paint one of my walls pink. even though I know it won't happen, happy #internationalwomensday ladies\",\n",
    "         \"Tell me about it, stud\",\n",
    "         \"nice to be back. bring it on 2017\"\n",
    "         \"2016. A year that had probably more faces than facebook. Victories and dissapointment, new friendships and new experiences; I was lucky enough to travel the several times and can't thank the people that made 2016 the year it was enough for all their kind words, laughter and happy tears.\",\n",
    "         \"don't mess with us - we have RG clubs\",\n",
    "         \"Summer is over and you're like: pardon me, what?\",\n",
    "         \"Looking back at those 5 weeks full of new friends, experiences and emotions puts a smile on my face. The teachers I've worked with inspired me every day, the people made my summer the best one yet. I love all of you and you'll always have a special place in my heart #obgottheheat and happy National Dance Day\",\n",
    "         \"everybody needs some attitude in their life #punintended #obgottheheat\"\n",
    "]"
   ]
  },
  {
   "cell_type": "code",
   "execution_count": 99,
   "metadata": {},
   "outputs": [],
   "source": [
    "darya_test = {'name': ['Darya'], 'type': ['ESFP']}"
   ]
  },
  {
   "cell_type": "code",
   "execution_count": 100,
   "metadata": {},
   "outputs": [],
   "source": [
    "darya_row = pd.DataFrame(darya_test)"
   ]
  },
  {
   "cell_type": "code",
   "execution_count": 101,
   "metadata": {},
   "outputs": [],
   "source": [
    "darya_row['text'] = ' '.join(Darya)"
   ]
  },
  {
   "cell_type": "code",
   "execution_count": 102,
   "metadata": {},
   "outputs": [
    {
     "data": {
      "text/html": [
       "<div>\n",
       "<style scoped>\n",
       "    .dataframe tbody tr th:only-of-type {\n",
       "        vertical-align: middle;\n",
       "    }\n",
       "\n",
       "    .dataframe tbody tr th {\n",
       "        vertical-align: top;\n",
       "    }\n",
       "\n",
       "    .dataframe thead th {\n",
       "        text-align: right;\n",
       "    }\n",
       "</style>\n",
       "<table border=\"1\" class=\"dataframe\">\n",
       "  <thead>\n",
       "    <tr style=\"text-align: right;\">\n",
       "      <th></th>\n",
       "      <th>name</th>\n",
       "      <th>type</th>\n",
       "      <th>text</th>\n",
       "    </tr>\n",
       "  </thead>\n",
       "  <tbody>\n",
       "    <tr>\n",
       "      <th>0</th>\n",
       "      <td>Darya</td>\n",
       "      <td>ESFP</td>\n",
       "      <td>Quarantine expectations. Swipe for reality 22 ...</td>\n",
       "    </tr>\n",
       "  </tbody>\n",
       "</table>\n",
       "</div>"
      ],
      "text/plain": [
       "    name  type                                               text\n",
       "0  Darya  ESFP  Quarantine expectations. Swipe for reality 22 ..."
      ]
     },
     "execution_count": 102,
     "metadata": {},
     "output_type": "execute_result"
    }
   ],
   "source": [
    "darya_row"
   ]
  },
  {
   "cell_type": "code",
   "execution_count": 103,
   "metadata": {},
   "outputs": [],
   "source": [
    "def processed(x):\n",
    "    pattern = r'''(?i)\\b((?:https?://|www\\d{0,3}[.]|[a-z0-9.\\-]+[.][a-z]{2,4}/)(?:[^\\s()<>]+|\\(([^\\s()<>]+|(\\([^\\s()<>]+\\)))*\\))+(?:\\(([^\\s()<>]+|(\\([^\\s()<>]+\\)))*\\)|[^\\s`!()\\[\\]{};:'\".,<>?«»“”‘’]))'''\n",
    "    cleaned = re.sub(pattern, ' ', str(x)) \n",
    "    cleaned = re.sub(r\"[^A-Za-z0-9]+\", \" \", cleaned)\n",
    "    cleaned = re.sub(\" \\d+\", \" \", cleaned)\n",
    "    cleaned = cleaned.lower().strip()\n",
    "\n",
    "    pattern2 = '\\w{1,}'\n",
    "    bag = re.findall(pattern2, cleaned)\n",
    "\n",
    "    porter = PorterStemmer()\n",
    "    porter_bag = [porter.stem(word) for word in bag]\n",
    "\n",
    "    lemmatizer = wordnet.WordNetLemmatizer()\n",
    "    bag_of_words = [lemmatizer.lemmatize(word) for word in porter_bag]\n",
    "\n",
    "    stopwords_e = stopwords.words('english')\n",
    "    bag_of_words = [word for word in bag_of_words if word not in stopwords_e]\n",
    "\n",
    "    return bag_of_words"
   ]
  },
  {
   "cell_type": "code",
   "execution_count": 104,
   "metadata": {},
   "outputs": [],
   "source": [
    "text_processed = [processed(i) for i in darya_row.text]"
   ]
  },
  {
   "cell_type": "code",
   "execution_count": 105,
   "metadata": {},
   "outputs": [],
   "source": [
    "darya_row['text_processed'] = text_processed"
   ]
  },
  {
   "cell_type": "code",
   "execution_count": 106,
   "metadata": {},
   "outputs": [],
   "source": [
    "darya_row['text_ready'] = darya_row.text_processed.apply(' '.join)"
   ]
  },
  {
   "cell_type": "code",
   "execution_count": 107,
   "metadata": {},
   "outputs": [],
   "source": [
    "darya_row = darya_row.drop(columns = ['name', 'text', 'text_processed'])"
   ]
  },
  {
   "cell_type": "code",
   "execution_count": 108,
   "metadata": {},
   "outputs": [
    {
     "data": {
      "text/html": [
       "<div>\n",
       "<style scoped>\n",
       "    .dataframe tbody tr th:only-of-type {\n",
       "        vertical-align: middle;\n",
       "    }\n",
       "\n",
       "    .dataframe tbody tr th {\n",
       "        vertical-align: top;\n",
       "    }\n",
       "\n",
       "    .dataframe thead th {\n",
       "        text-align: right;\n",
       "    }\n",
       "</style>\n",
       "<table border=\"1\" class=\"dataframe\">\n",
       "  <thead>\n",
       "    <tr style=\"text-align: right;\">\n",
       "      <th></th>\n",
       "      <th>type</th>\n",
       "      <th>text_ready</th>\n",
       "    </tr>\n",
       "  </thead>\n",
       "  <tbody>\n",
       "    <tr>\n",
       "      <th>0</th>\n",
       "      <td>ESFP</td>\n",
       "      <td>quarantin expect swipe realiti swipe see photo...</td>\n",
       "    </tr>\n",
       "  </tbody>\n",
       "</table>\n",
       "</div>"
      ],
      "text/plain": [
       "   type                                         text_ready\n",
       "0  ESFP  quarantin expect swipe realiti swipe see photo..."
      ]
     },
     "execution_count": 108,
     "metadata": {},
     "output_type": "execute_result"
    }
   ],
   "source": [
    "darya_row"
   ]
  },
  {
   "cell_type": "code",
   "execution_count": null,
   "metadata": {},
   "outputs": [],
   "source": []
  },
  {
   "cell_type": "code",
   "execution_count": 109,
   "metadata": {},
   "outputs": [],
   "source": [
    "data = pd.read_csv(r'../data/personalities_cleaned.csv')"
   ]
  },
  {
   "cell_type": "code",
   "execution_count": 110,
   "metadata": {},
   "outputs": [],
   "source": [
    "data = data.drop(columns = ['Unnamed: 0', 'posts', 'text_processed'])"
   ]
  },
  {
   "cell_type": "code",
   "execution_count": 120,
   "metadata": {},
   "outputs": [],
   "source": [
    "data.drop(data.index[3559], inplace=True)"
   ]
  },
  {
   "cell_type": "code",
   "execution_count": 121,
   "metadata": {},
   "outputs": [
    {
     "data": {
      "text/html": [
       "<div>\n",
       "<style scoped>\n",
       "    .dataframe tbody tr th:only-of-type {\n",
       "        vertical-align: middle;\n",
       "    }\n",
       "\n",
       "    .dataframe tbody tr th {\n",
       "        vertical-align: top;\n",
       "    }\n",
       "\n",
       "    .dataframe thead th {\n",
       "        text-align: right;\n",
       "    }\n",
       "</style>\n",
       "<table border=\"1\" class=\"dataframe\">\n",
       "  <thead>\n",
       "    <tr style=\"text-align: right;\">\n",
       "      <th></th>\n",
       "      <th>type</th>\n",
       "      <th>text_ready</th>\n",
       "    </tr>\n",
       "  </thead>\n",
       "  <tbody>\n",
       "    <tr>\n",
       "      <th>0</th>\n",
       "      <td>INFJ</td>\n",
       "      <td>intj moment sportscent top ten play prank ha l...</td>\n",
       "    </tr>\n",
       "    <tr>\n",
       "      <th>1</th>\n",
       "      <td>ENTP</td>\n",
       "      <td>find lack post veri alarm sex bore posit often...</td>\n",
       "    </tr>\n",
       "    <tr>\n",
       "      <th>2</th>\n",
       "      <td>INTP</td>\n",
       "      <td>good one cours say know bless cur doe absolut ...</td>\n",
       "    </tr>\n",
       "    <tr>\n",
       "      <th>3</th>\n",
       "      <td>INTJ</td>\n",
       "      <td>dear intp enjoy convers day esoter gab natur u...</td>\n",
       "    </tr>\n",
       "    <tr>\n",
       "      <th>4</th>\n",
       "      <td>ENTJ</td>\n",
       "      <td>fire anoth silli misconcept approach logic go ...</td>\n",
       "    </tr>\n",
       "  </tbody>\n",
       "</table>\n",
       "</div>"
      ],
      "text/plain": [
       "   type                                         text_ready\n",
       "0  INFJ  intj moment sportscent top ten play prank ha l...\n",
       "1  ENTP  find lack post veri alarm sex bore posit often...\n",
       "2  INTP  good one cours say know bless cur doe absolut ...\n",
       "3  INTJ  dear intp enjoy convers day esoter gab natur u...\n",
       "4  ENTJ  fire anoth silli misconcept approach logic go ..."
      ]
     },
     "execution_count": 121,
     "metadata": {},
     "output_type": "execute_result"
    }
   ],
   "source": [
    "data.head()"
   ]
  },
  {
   "cell_type": "code",
   "execution_count": 122,
   "metadata": {},
   "outputs": [],
   "source": [
    "data = data.append(darya_row, ignore_index = True)"
   ]
  },
  {
   "cell_type": "code",
   "execution_count": 123,
   "metadata": {},
   "outputs": [],
   "source": [
    "data2 = data.copy()"
   ]
  },
  {
   "cell_type": "code",
   "execution_count": 124,
   "metadata": {},
   "outputs": [],
   "source": [
    "# cleaning and processing\n",
    "\n",
    "data2['I-E'] = data2['type'].astype(str).str[0]\n",
    "data2['N-S'] = data2['type'].astype(str).str[1]\n",
    "data2['T-F'] = data2['type'].astype(str).str[2]\n",
    "data2['J-P'] = data2['type'].astype(str).str[3]"
   ]
  },
  {
   "cell_type": "code",
   "execution_count": 125,
   "metadata": {},
   "outputs": [
    {
     "data": {
      "text/html": [
       "<div>\n",
       "<style scoped>\n",
       "    .dataframe tbody tr th:only-of-type {\n",
       "        vertical-align: middle;\n",
       "    }\n",
       "\n",
       "    .dataframe tbody tr th {\n",
       "        vertical-align: top;\n",
       "    }\n",
       "\n",
       "    .dataframe thead th {\n",
       "        text-align: right;\n",
       "    }\n",
       "</style>\n",
       "<table border=\"1\" class=\"dataframe\">\n",
       "  <thead>\n",
       "    <tr style=\"text-align: right;\">\n",
       "      <th></th>\n",
       "      <th>type</th>\n",
       "      <th>text_ready</th>\n",
       "      <th>I-E</th>\n",
       "      <th>N-S</th>\n",
       "      <th>T-F</th>\n",
       "      <th>J-P</th>\n",
       "    </tr>\n",
       "  </thead>\n",
       "  <tbody>\n",
       "    <tr>\n",
       "      <th>0</th>\n",
       "      <td>INFJ</td>\n",
       "      <td>intj moment sportscent top ten play prank ha l...</td>\n",
       "      <td>I</td>\n",
       "      <td>N</td>\n",
       "      <td>F</td>\n",
       "      <td>J</td>\n",
       "    </tr>\n",
       "    <tr>\n",
       "      <th>1</th>\n",
       "      <td>ENTP</td>\n",
       "      <td>find lack post veri alarm sex bore posit often...</td>\n",
       "      <td>E</td>\n",
       "      <td>N</td>\n",
       "      <td>T</td>\n",
       "      <td>P</td>\n",
       "    </tr>\n",
       "    <tr>\n",
       "      <th>2</th>\n",
       "      <td>INTP</td>\n",
       "      <td>good one cours say know bless cur doe absolut ...</td>\n",
       "      <td>I</td>\n",
       "      <td>N</td>\n",
       "      <td>T</td>\n",
       "      <td>P</td>\n",
       "    </tr>\n",
       "    <tr>\n",
       "      <th>3</th>\n",
       "      <td>INTJ</td>\n",
       "      <td>dear intp enjoy convers day esoter gab natur u...</td>\n",
       "      <td>I</td>\n",
       "      <td>N</td>\n",
       "      <td>T</td>\n",
       "      <td>J</td>\n",
       "    </tr>\n",
       "    <tr>\n",
       "      <th>4</th>\n",
       "      <td>ENTJ</td>\n",
       "      <td>fire anoth silli misconcept approach logic go ...</td>\n",
       "      <td>E</td>\n",
       "      <td>N</td>\n",
       "      <td>T</td>\n",
       "      <td>J</td>\n",
       "    </tr>\n",
       "  </tbody>\n",
       "</table>\n",
       "</div>"
      ],
      "text/plain": [
       "   type                                         text_ready I-E N-S T-F J-P\n",
       "0  INFJ  intj moment sportscent top ten play prank ha l...   I   N   F   J\n",
       "1  ENTP  find lack post veri alarm sex bore posit often...   E   N   T   P\n",
       "2  INTP  good one cours say know bless cur doe absolut ...   I   N   T   P\n",
       "3  INTJ  dear intp enjoy convers day esoter gab natur u...   I   N   T   J\n",
       "4  ENTJ  fire anoth silli misconcept approach logic go ...   E   N   T   J"
      ]
     },
     "execution_count": 125,
     "metadata": {},
     "output_type": "execute_result"
    }
   ],
   "source": [
    "data2.head()"
   ]
  },
  {
   "cell_type": "code",
   "execution_count": 126,
   "metadata": {},
   "outputs": [
    {
     "data": {
      "text/html": [
       "<div>\n",
       "<style scoped>\n",
       "    .dataframe tbody tr th:only-of-type {\n",
       "        vertical-align: middle;\n",
       "    }\n",
       "\n",
       "    .dataframe tbody tr th {\n",
       "        vertical-align: top;\n",
       "    }\n",
       "\n",
       "    .dataframe thead th {\n",
       "        text-align: right;\n",
       "    }\n",
       "</style>\n",
       "<table border=\"1\" class=\"dataframe\">\n",
       "  <thead>\n",
       "    <tr style=\"text-align: right;\">\n",
       "      <th></th>\n",
       "      <th>type</th>\n",
       "      <th>text_ready</th>\n",
       "      <th>I-E</th>\n",
       "      <th>N-S</th>\n",
       "      <th>T-F</th>\n",
       "      <th>J-P</th>\n",
       "    </tr>\n",
       "  </thead>\n",
       "  <tbody>\n",
       "    <tr>\n",
       "      <th>8671</th>\n",
       "      <td>INTP</td>\n",
       "      <td>mani question thing would take purpl pill pick...</td>\n",
       "      <td>I</td>\n",
       "      <td>N</td>\n",
       "      <td>T</td>\n",
       "      <td>P</td>\n",
       "    </tr>\n",
       "    <tr>\n",
       "      <th>8672</th>\n",
       "      <td>INFP</td>\n",
       "      <td>veri conflict right come want child honestli m...</td>\n",
       "      <td>I</td>\n",
       "      <td>N</td>\n",
       "      <td>F</td>\n",
       "      <td>P</td>\n",
       "    </tr>\n",
       "    <tr>\n",
       "      <th>8673</th>\n",
       "      <td>INFP</td>\n",
       "      <td>ha long sinc personalitycaf although seem chan...</td>\n",
       "      <td>I</td>\n",
       "      <td>N</td>\n",
       "      <td>F</td>\n",
       "      <td>P</td>\n",
       "    </tr>\n",
       "    <tr>\n",
       "      <th>8674</th>\n",
       "      <td>ESFP</td>\n",
       "      <td>quarantin expect swipe realiti swipe see photo...</td>\n",
       "      <td>E</td>\n",
       "      <td>S</td>\n",
       "      <td>F</td>\n",
       "      <td>P</td>\n",
       "    </tr>\n",
       "    <tr>\n",
       "      <th>8675</th>\n",
       "      <td>ESFP</td>\n",
       "      <td>quarantin expect swipe realiti swipe see photo...</td>\n",
       "      <td>E</td>\n",
       "      <td>S</td>\n",
       "      <td>F</td>\n",
       "      <td>P</td>\n",
       "    </tr>\n",
       "  </tbody>\n",
       "</table>\n",
       "</div>"
      ],
      "text/plain": [
       "      type                                         text_ready I-E N-S T-F J-P\n",
       "8671  INTP  mani question thing would take purpl pill pick...   I   N   T   P\n",
       "8672  INFP  veri conflict right come want child honestli m...   I   N   F   P\n",
       "8673  INFP  ha long sinc personalitycaf although seem chan...   I   N   F   P\n",
       "8674  ESFP  quarantin expect swipe realiti swipe see photo...   E   S   F   P\n",
       "8675  ESFP  quarantin expect swipe realiti swipe see photo...   E   S   F   P"
      ]
     },
     "execution_count": 126,
     "metadata": {},
     "output_type": "execute_result"
    }
   ],
   "source": [
    "data2.tail()"
   ]
  },
  {
   "cell_type": "code",
   "execution_count": 127,
   "metadata": {},
   "outputs": [],
   "source": [
    "x = data2['text_ready']\n",
    "\n",
    "y_IE = data2['I-E']\n",
    "y_NS = data2['N-S']\n",
    "y_TF = data2['T-F']\n",
    "y_JP = data2['J-P']"
   ]
  },
  {
   "cell_type": "code",
   "execution_count": 128,
   "metadata": {},
   "outputs": [],
   "source": [
    "from sklearn.feature_extraction.text import CountVectorizer\n",
    "\n",
    "vector = CountVectorizer(ngram_range=(2, 2)).fit(x) \n",
    "X = vector.transform(x)"
   ]
  },
  {
   "cell_type": "code",
   "execution_count": 140,
   "metadata": {},
   "outputs": [],
   "source": [
    "y_test = list(y_IE[8675])"
   ]
  },
  {
   "cell_type": "code",
   "execution_count": 130,
   "metadata": {},
   "outputs": [
    {
     "data": {
      "text/plain": [
       "'E'"
      ]
     },
     "execution_count": 130,
     "metadata": {},
     "output_type": "execute_result"
    }
   ],
   "source": [
    "y_test"
   ]
  },
  {
   "cell_type": "code",
   "execution_count": null,
   "metadata": {},
   "outputs": [],
   "source": [
    "from sklearn.model_selection import train_test_split, cross_val_score"
   ]
  },
  {
   "cell_type": "code",
   "execution_count": 141,
   "metadata": {},
   "outputs": [
    {
     "name": "stdout",
     "output_type": "stream",
     "text": [
      "I-E RESULTS\n",
      "Label I-E train score is : 0.7696564445469218\n",
      "Label I-E test score is : 0.7696564445469218\n",
      "Confusion Matrix for K-Nearest Neighbors:\n",
      "[[0 1]\n",
      " [0 0]]\n",
      "Score: 0.0\n",
      "Classification Report:               precision    recall  f1-score   support\n",
      "\n",
      "           E       0.00      0.00      0.00       1.0\n",
      "           I       0.00      0.00      0.00       0.0\n",
      "\n",
      "    accuracy                           0.00       1.0\n",
      "   macro avg       0.00      0.00      0.00       1.0\n",
      "weighted avg       0.00      0.00      0.00       1.0\n",
      "\n",
      "Prediction is:  ['I']\n",
      "Actual is:  ['E']\n",
      "****************************************************************************************************\n"
     ]
    },
    {
     "name": "stderr",
     "output_type": "stream",
     "text": [
      "/usr/local/Cellar/jupyterlab/1.2.4/libexec/lib/python3.7/site-packages/sklearn/metrics/_classification.py:1272: UndefinedMetricWarning: Precision and F-score are ill-defined and being set to 0.0 in labels with no predicted samples. Use `zero_division` parameter to control this behavior.\n",
      "  _warn_prf(average, modifier, msg_start, len(result))\n",
      "/usr/local/Cellar/jupyterlab/1.2.4/libexec/lib/python3.7/site-packages/sklearn/metrics/_classification.py:1272: UndefinedMetricWarning: Recall and F-score are ill-defined and being set to 0.0 in labels with no true samples. Use `zero_division` parameter to control this behavior.\n",
      "  _warn_prf(average, modifier, msg_start, len(result))\n"
     ]
    },
    {
     "name": "stdout",
     "output_type": "stream",
     "text": [
      "N-S RESULTS\n",
      "Label N-S train score is : 0.8620013834447775\n",
      "Label N-S test score is : 0.8620013834447775\n",
      "Confusion Matrix for Random Forests:\n",
      "[[0 0]\n",
      " [1 0]]\n",
      "Score: 0.0\n",
      "Classification Report:               precision    recall  f1-score   support\n",
      "\n",
      "           N       0.00      0.00      0.00       0.0\n",
      "           S       0.00      0.00      0.00       1.0\n",
      "\n",
      "    accuracy                           0.00       1.0\n",
      "   macro avg       0.00      0.00      0.00       1.0\n",
      "weighted avg       0.00      0.00      0.00       1.0\n",
      "\n",
      "Prediction is:  ['N']\n",
      "Actual is:  ['S']\n",
      "****************************************************************************************************\n"
     ]
    },
    {
     "name": "stderr",
     "output_type": "stream",
     "text": [
      "/usr/local/Cellar/jupyterlab/1.2.4/libexec/lib/python3.7/site-packages/sklearn/metrics/_classification.py:1272: UndefinedMetricWarning: Precision and F-score are ill-defined and being set to 0.0 in labels with no predicted samples. Use `zero_division` parameter to control this behavior.\n",
      "  _warn_prf(average, modifier, msg_start, len(result))\n",
      "/usr/local/Cellar/jupyterlab/1.2.4/libexec/lib/python3.7/site-packages/sklearn/metrics/_classification.py:1272: UndefinedMetricWarning: Recall and F-score are ill-defined and being set to 0.0 in labels with no true samples. Use `zero_division` parameter to control this behavior.\n",
      "  _warn_prf(average, modifier, msg_start, len(result))\n"
     ]
    },
    {
     "name": "stdout",
     "output_type": "stream",
     "text": [
      "T-F Results\n",
      "Label T-F train score is : 1.0\n",
      "Label T-F test score is : 1.0\n",
      "Confusion Matrix for Multinomial Naive Bayes:\n",
      "[[1]]\n",
      "Score: 100.0\n",
      "Classification Report:               precision    recall  f1-score   support\n",
      "\n",
      "           F       1.00      1.00      1.00         1\n",
      "\n",
      "    accuracy                           1.00         1\n",
      "   macro avg       1.00      1.00      1.00         1\n",
      "weighted avg       1.00      1.00      1.00         1\n",
      "\n",
      "Prediction is:  ['F']\n",
      "Actual is:  ['F']\n",
      "****************************************************************************************************\n",
      "J-P Results\n",
      "Label J-P train score is : 1.0\n",
      "Label J-P test score is : 1.0\n",
      "Confusion Matrix for Multinomial Naive Bayes:\n",
      "[[0 0]\n",
      " [1 0]]\n",
      "Score: 0.0\n",
      "Classification Report:               precision    recall  f1-score   support\n",
      "\n",
      "           J       0.00      0.00      0.00       0.0\n",
      "           P       0.00      0.00      0.00       1.0\n",
      "\n",
      "    accuracy                           0.00       1.0\n",
      "   macro avg       0.00      0.00      0.00       1.0\n",
      "weighted avg       0.00      0.00      0.00       1.0\n",
      "\n",
      "Prediction is:  ['J']\n",
      "Actual is:  ['P']\n",
      "****************************************************************************************************\n"
     ]
    },
    {
     "name": "stderr",
     "output_type": "stream",
     "text": [
      "/usr/local/Cellar/jupyterlab/1.2.4/libexec/lib/python3.7/site-packages/sklearn/metrics/_classification.py:1272: UndefinedMetricWarning: Precision and F-score are ill-defined and being set to 0.0 in labels with no predicted samples. Use `zero_division` parameter to control this behavior.\n",
      "  _warn_prf(average, modifier, msg_start, len(result))\n",
      "/usr/local/Cellar/jupyterlab/1.2.4/libexec/lib/python3.7/site-packages/sklearn/metrics/_classification.py:1272: UndefinedMetricWarning: Recall and F-score are ill-defined and being set to 0.0 in labels with no true samples. Use `zero_division` parameter to control this behavior.\n",
      "  _warn_prf(average, modifier, msg_start, len(result))\n"
     ]
    }
   ],
   "source": [
    "from sklearn.neighbors import KNeighborsClassifier\n",
    "knn = KNeighborsClassifier(n_neighbors=10) # see if can tweak accuracy\n",
    "\n",
    "from sklearn.ensemble import RandomForestClassifier\n",
    "rfn = RandomForestClassifier(max_depth=5, random_state=0) # see if can tweak accuracy\n",
    "\n",
    "from sklearn.naive_bayes import MultinomialNB\n",
    "mnb = MultinomialNB()\n",
    "\n",
    "\n",
    "\n",
    "# IE\n",
    "x_train = X[0:8674]\n",
    "x_test = X[8675]\n",
    "y_train = y_IE[0:8674]\n",
    "y_test = list(y_IE[8675])\n",
    "knn.fit(x_train, y_train)\n",
    "ieb_train = knn.score (x_train,y_train)\n",
    "ieb_test = knn.score (x_train,y_train)\n",
    "predknn = knn.predict(x_test)\n",
    "print(\"I-E RESULTS\")\n",
    "print('Label I-E train score is :',ieb_train)\n",
    "print('Label I-E test score is :',ieb_test)\n",
    "print(\"Confusion Matrix for K-Nearest Neighbors:\")\n",
    "print(confusion_matrix(y_test,predknn))\n",
    "print(\"Score:\",round(accuracy_score(y_test,predknn)*100,2))\n",
    "print(\"Classification Report:\",classification_report(y_test,predknn))\n",
    "print('Prediction is: ', predknn)\n",
    "print('Actual is: ', y_test)\n",
    "print(\"*\" * 100)\n",
    "\n",
    "# NS\n",
    "x_train = X[0:8674]\n",
    "x_test = X[8675]\n",
    "y_train = y_NS[0:8674]\n",
    "y_test = list(y_NS[8675])\n",
    "rfn.fit(x_train, y_train)\n",
    "nsb_train = rfn.score (x_train,y_train)\n",
    "nsb_test = rfn.score (x_train,y_train)\n",
    "predrfn = rfn.predict(x_test)\n",
    "print(\"N-S RESULTS\")\n",
    "print('Label N-S train score is :',nsb_train)\n",
    "print('Label N-S test score is :',nsb_test)\n",
    "print(\"Confusion Matrix for Random Forests:\")\n",
    "print(confusion_matrix(y_test,predrfn))\n",
    "print(\"Score:\",round(accuracy_score(y_test,predrfn)*100,2))\n",
    "print(\"Classification Report:\",classification_report(y_test,predrfn))\n",
    "print('Prediction is: ', predrfn)\n",
    "print('Actual is: ', y_test)\n",
    "print(\"*\" * 100)\n",
    "\n",
    "# TF\n",
    "x_train = X[0:8674]\n",
    "x_test = X[8675]\n",
    "y_train = y_TF[0:8674]\n",
    "y_test = list(y_TF[8675])\n",
    "mnb.fit(x_train, y_train)\n",
    "tfb_train = mnb.score (x_train,y_train)\n",
    "tfb_test = mnb.score (x_train,y_train)\n",
    "predmnb = mnb.predict(x_test)\n",
    "print(\"T-F Results\")\n",
    "print('Label T-F train score is :',tfb_train)\n",
    "print('Label T-F test score is :',tfb_test)\n",
    "print(\"Confusion Matrix for Multinomial Naive Bayes:\")\n",
    "print(confusion_matrix(y_test,predmnb))\n",
    "print(\"Score:\",round(accuracy_score(y_test,predmnb)*100,2))\n",
    "print(\"Classification Report:\",classification_report(y_test,predmnb))\n",
    "print('Prediction is: ', predmnb)\n",
    "print('Actual is: ', y_test)\n",
    "print(\"*\" * 100)\n",
    "\n",
    "# JP\n",
    "x_train = X[0:8674]\n",
    "x_test = X[8675]\n",
    "y_train = y_JP[0:8674]\n",
    "y_test = list(y_JP[8675])\n",
    "mnb.fit(x_train, y_train)\n",
    "jpb_train = mnb.score (x_train,y_train)\n",
    "jpb_test = mnb.score (x_train,y_train)\n",
    "predmnb = mnb.predict(x_test)\n",
    "print(\"J-P Results\")\n",
    "print('Label J-P train score is :',jpb_train)\n",
    "print('Label J-P test score is :',jpb_test)\n",
    "print(\"Confusion Matrix for Multinomial Naive Bayes:\")\n",
    "print(confusion_matrix(y_test,predmnb))\n",
    "print(\"Score:\",round(accuracy_score(y_test,predmnb)*100,2))\n",
    "print(\"Classification Report:\",classification_report(y_test,predmnb))\n",
    "print('Prediction is: ', predmnb)\n",
    "print('Actual is: ', y_test)\n",
    "print(\"*\" * 100)"
   ]
  },
  {
   "cell_type": "code",
   "execution_count": null,
   "metadata": {},
   "outputs": [],
   "source": []
  }
 ],
 "metadata": {
  "kernelspec": {
   "display_name": "Python 3",
   "language": "python",
   "name": "python3"
  },
  "language_info": {
   "codemirror_mode": {
    "name": "ipython",
    "version": 3
   },
   "file_extension": ".py",
   "mimetype": "text/x-python",
   "name": "python",
   "nbconvert_exporter": "python",
   "pygments_lexer": "ipython3",
   "version": "3.7.6"
  }
 },
 "nbformat": 4,
 "nbformat_minor": 2
}
